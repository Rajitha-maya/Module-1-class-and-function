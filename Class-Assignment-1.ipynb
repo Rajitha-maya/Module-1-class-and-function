{
 "cells": [
  {
   "cell_type": "code",
   "execution_count": 9,
   "metadata": {},
   "outputs": [],
   "source": [
    "class subfieldsinAI():\n",
    "    list=['Sub fields in AI are:','Machine Learning','Neural Networks','Vision','Robotics','Speech Processing','Natural Language Processing']\n",
    "    def SubfieldsInAI():\n",
    "        for fields in subfieldsinAI.list:\n",
    "            print(fields)"
   ]
  },
  {
   "cell_type": "code",
   "execution_count": 11,
   "metadata": {},
   "outputs": [
    {
     "name": "stdout",
     "output_type": "stream",
     "text": [
      "Sub fields in AI are:\n",
      "Machine Learning\n",
      "Neural Networks\n",
      "Vision\n",
      "Robotics\n",
      "Speech Processing\n",
      "Natural Language Processing\n"
     ]
    }
   ],
   "source": [
    "subfieldsinAI.SubfieldsInAI()"
   ]
  },
  {
   "cell_type": "code",
   "execution_count": 12,
   "metadata": {},
   "outputs": [
    {
     "name": "stdout",
     "output_type": "stream",
     "text": [
      "Enter the Number:52452\n"
     ]
    }
   ],
   "source": [
    "class oddeven():\n",
    "    num=int(input(\"Enter the Number:\"))\n",
    "    def oddeven(num):\n",
    "        if num%2==1:\n",
    "            print(num,\"is odd number\")\n",
    "        elif num%2==0:\n",
    "            print(num,\"is even number\")\n"
   ]
  },
  {
   "cell_type": "code",
   "execution_count": 14,
   "metadata": {},
   "outputs": [
    {
     "name": "stdout",
     "output_type": "stream",
     "text": [
      "52452 is even number\n"
     ]
    }
   ],
   "source": [
    "oddeven.oddeven(52452)"
   ]
  },
  {
   "cell_type": "code",
   "execution_count": 23,
   "metadata": {},
   "outputs": [],
   "source": [
    "class eligibilityformarriage():\n",
    "    def marriage(gender,age):\n",
    "        if(gender==\"male\" and age<21)or(gender==\"female\" and age<18):\n",
    "            print(\"Not eligible\")\n",
    "        else:\n",
    "            print(\"Eligible\")"
   ]
  },
  {
   "cell_type": "code",
   "execution_count": 24,
   "metadata": {},
   "outputs": [
    {
     "name": "stdout",
     "output_type": "stream",
     "text": [
      "Your gender:male\n",
      "your age:20\n"
     ]
    }
   ],
   "source": [
    "    gender=input(\"Your gender:\")\n",
    "    age=int(input(\"your age:\"))"
   ]
  },
  {
   "cell_type": "code",
   "execution_count": 25,
   "metadata": {},
   "outputs": [
    {
     "name": "stdout",
     "output_type": "stream",
     "text": [
      "Not eligible\n"
     ]
    }
   ],
   "source": [
    "eligibilityformarriage.marriage(gender,age)"
   ]
  },
  {
   "cell_type": "code",
   "execution_count": 28,
   "metadata": {},
   "outputs": [],
   "source": [
    "class findpercent():\n",
    "    def subjects():\n",
    "        total = Subject1 + Subject2 + Subject3 + Subject4 + Subject5\n",
    "        percentage = total / 500*100\n",
    "        print(\"Total:\",total)\n",
    "        print(\"Percentage:\",percentage)\n"
   ]
  },
  {
   "cell_type": "code",
   "execution_count": 30,
   "metadata": {},
   "outputs": [
    {
     "name": "stdout",
     "output_type": "stream",
     "text": [
      "Subject 1:98\n",
      "Subject 2:87\n",
      "Subject 3:95\n",
      "Subject 4:95\n",
      "Subject 5:93\n"
     ]
    }
   ],
   "source": [
    "    Subject1=int(input(\"Subject 1:\"))\n",
    "    Subject2=int(input(\"Subject 2:\"))\n",
    "    Subject3=int(input(\"Subject 3:\"))\n",
    "    Subject4=int(input(\"Subject 4:\"))\n",
    "    Subject5=int(input(\"Subject 5:\"))"
   ]
  },
  {
   "cell_type": "code",
   "execution_count": 31,
   "metadata": {},
   "outputs": [
    {
     "name": "stdout",
     "output_type": "stream",
     "text": [
      "Total: 468\n",
      "Percentage: 93.60000000000001\n"
     ]
    }
   ],
   "source": [
    "findpercent.subjects()"
   ]
  },
  {
   "cell_type": "code",
   "execution_count": 32,
   "metadata": {},
   "outputs": [
    {
     "name": "stdout",
     "output_type": "stream",
     "text": [
      "Height:32\n",
      "Breadth:34\n"
     ]
    }
   ],
   "source": [
    "Height=int(input(\"Height:\"))\n",
    "Breadth=int(input(\"Breadth:\"))"
   ]
  },
  {
   "cell_type": "code",
   "execution_count": 33,
   "metadata": {},
   "outputs": [],
   "source": [
    "class triangle():\n",
    "    def areaoftriangle(Height,Breadth):\n",
    "        area=Height*Breadth/2\n",
    "        print(\"Area of Triangle:\",area)\n",
    "        return area\n",
    "    "
   ]
  },
  {
   "cell_type": "code",
   "execution_count": 34,
   "metadata": {},
   "outputs": [
    {
     "name": "stdout",
     "output_type": "stream",
     "text": [
      "Area of Triangle: 544.0\n"
     ]
    },
    {
     "data": {
      "text/plain": [
       "544.0"
      ]
     },
     "execution_count": 34,
     "metadata": {},
     "output_type": "execute_result"
    }
   ],
   "source": [
    "triangle.areaoftriangle(Height,Breadth)"
   ]
  },
  {
   "cell_type": "code",
   "execution_count": 35,
   "metadata": {},
   "outputs": [
    {
     "name": "stdout",
     "output_type": "stream",
     "text": [
      "Height1:2\n",
      "Height2:4\n",
      "Breadth:4\n"
     ]
    }
   ],
   "source": [
    "Height1=int(input(\"Height1:\"))\n",
    "Height2=int(input(\"Height2:\"))\n",
    "Breadth=int(input(\"Breadth:\"))"
   ]
  },
  {
   "cell_type": "code",
   "execution_count": 37,
   "metadata": {},
   "outputs": [],
   "source": [
    "class triangle():\n",
    "    def perimeteroftriangle(Height1,Height2,Breadth):\n",
    "        perimeter=Height1+Height2+Breadth\n",
    "        print(\"Perimeter of Triangle:\",perimeter)\n",
    "        return perimeter"
   ]
  },
  {
   "cell_type": "code",
   "execution_count": 38,
   "metadata": {},
   "outputs": [
    {
     "name": "stdout",
     "output_type": "stream",
     "text": [
      "Perimeter of Triangle: 10\n"
     ]
    },
    {
     "data": {
      "text/plain": [
       "10"
      ]
     },
     "execution_count": 38,
     "metadata": {},
     "output_type": "execute_result"
    }
   ],
   "source": [
    "triangle.perimeteroftriangle(Height1,Height2,Breadth)"
   ]
  },
  {
   "cell_type": "code",
   "execution_count": null,
   "metadata": {},
   "outputs": [],
   "source": []
  }
 ],
 "metadata": {
  "kernelspec": {
   "display_name": "Python 3",
   "language": "python",
   "name": "python3"
  },
  "language_info": {
   "codemirror_mode": {
    "name": "ipython",
    "version": 3
   },
   "file_extension": ".py",
   "mimetype": "text/x-python",
   "name": "python",
   "nbconvert_exporter": "python",
   "pygments_lexer": "ipython3",
   "version": "3.7.4"
  }
 },
 "nbformat": 4,
 "nbformat_minor": 2
}
